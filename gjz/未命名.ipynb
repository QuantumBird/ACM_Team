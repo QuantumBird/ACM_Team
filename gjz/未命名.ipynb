{
 "cells": [
  {
   "cell_type": "code",
   "execution_count": 2,
   "metadata": {},
   "outputs": [],
   "source": [
    "def suml(a):\n",
    "    maxi = 0\n",
    "    for i in range(1, len(a)):\n",
    "        if a[i] > a[maxi]:\n",
    "            maxi = i\n",
    "    a[maxi] -= 1\n",
    "    mini = 0\n",
    "    for i in range(1, len(a)):\n",
    "        if a[i] < a[mini]:\n",
    "            mini = i\n",
    "    a[mini] += 1\n",
    "    return a"
   ]
  },
  {
   "cell_type": "code",
   "execution_count": 3,
   "metadata": {},
   "outputs": [],
   "source": [
    "def eq(a, b):\n",
    "    if len(a) != len(b):\n",
    "        return False\n",
    "    for i in range(len(a)):\n",
    "        if a[i] != b[i]:\n",
    "            return False\n",
    "    return True"
   ]
  },
  {
   "cell_type": "code",
   "execution_count": 9,
   "metadata": {},
   "outputs": [],
   "source": [
    "def display(a, times=100):\n",
    "    for i in range(times):\n",
    "        tmp = a[:]\n",
    "        print(a)\n",
    "        a = suml(a)\n",
    "        if eq(sorted(a), sorted(tmp)):\n",
    "            print(\"times:\", i + 1, end=\"#\")\n",
    "            print(a)\n",
    "            break\n",
    "            "
   ]
  },
  {
   "cell_type": "code",
   "execution_count": 10,
   "metadata": {},
   "outputs": [
    {
     "name": "stdout",
     "output_type": "stream",
     "text": [
      "[1, 1, 10, 10]\n",
      "[2, 1, 9, 10]\n",
      "[2, 2, 9, 9]\n",
      "[3, 2, 8, 9]\n",
      "[3, 3, 8, 8]\n",
      "[4, 3, 7, 8]\n",
      "[4, 4, 7, 7]\n",
      "[5, 4, 6, 7]\n",
      "[5, 5, 6, 6]\n",
      "times: 9#[6, 5, 5, 6]\n"
     ]
    }
   ],
   "source": [
    "display([1,1,10, 10])"
   ]
  },
  {
   "cell_type": "code",
   "execution_count": 12,
   "metadata": {},
   "outputs": [],
   "source": [
    "def stp_times(a):\n",
    "    avg = sum(a) / len(a)\n",
    "    return sum([abs(i - avg) for i in a]) / 2"
   ]
  },
  {
   "cell_type": "code",
   "execution_count": 13,
   "metadata": {},
   "outputs": [],
   "source": [
    "a = [1, 1, 10, 10]"
   ]
  },
  {
   "cell_type": "code",
   "execution_count": 14,
   "metadata": {},
   "outputs": [
    {
     "data": {
      "text/plain": [
       "9.0"
      ]
     },
     "execution_count": 14,
     "metadata": {},
     "output_type": "execute_result"
    }
   ],
   "source": [
    "stp_times(a)"
   ]
  },
  {
   "cell_type": "code",
   "execution_count": null,
   "metadata": {},
   "outputs": [],
   "source": []
  }
 ],
 "metadata": {
  "kernelspec": {
   "display_name": "Python 3",
   "language": "python",
   "name": "python3"
  },
  "language_info": {
   "codemirror_mode": {
    "name": "ipython",
    "version": 3
   },
   "file_extension": ".py",
   "mimetype": "text/x-python",
   "name": "python",
   "nbconvert_exporter": "python",
   "pygments_lexer": "ipython3",
   "version": "3.7.4"
  }
 },
 "nbformat": 4,
 "nbformat_minor": 2
}
