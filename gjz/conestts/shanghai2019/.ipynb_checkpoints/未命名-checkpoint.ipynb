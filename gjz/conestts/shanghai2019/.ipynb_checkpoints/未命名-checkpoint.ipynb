{
 "cells": [
  {
   "cell_type": "code",
   "execution_count": 1,
   "metadata": {},
   "outputs": [],
   "source": [
    "def digitsum(n):\n",
    "    return sum([int(i) for i  in str(n)])"
   ]
  },
  {
   "cell_type": "code",
   "execution_count": 2,
   "metadata": {},
   "outputs": [],
   "source": [
    "def digitmult(n):\n",
    "    d = [int(i) for i in str(n)]\n",
    "    ans = 1\n",
    "    for i in d:\n",
    "        ans *= i\n",
    "    return ans"
   ]
  },
  {
   "cell_type": "code",
   "execution_count": 3,
   "metadata": {},
   "outputs": [],
   "source": [
    "def check(n):\n",
    "    return digitsum(n) == digitmult(n)"
   ]
  },
  {
   "cell_type": "code",
   "execution_count": 4,
   "metadata": {},
   "outputs": [
    {
     "data": {
      "text/plain": [
       "6"
      ]
     },
     "execution_count": 4,
     "metadata": {},
     "output_type": "execute_result"
    }
   ],
   "source": [
    "digitsum(123)"
   ]
  },
  {
   "cell_type": "code",
   "execution_count": 5,
   "metadata": {},
   "outputs": [
    {
     "data": {
      "text/plain": [
       "False"
      ]
     },
     "execution_count": 5,
     "metadata": {},
     "output_type": "execute_result"
    }
   ],
   "source": [
    "check(111)"
   ]
  },
  {
   "cell_type": "code",
   "execution_count": 6,
   "metadata": {},
   "outputs": [
    {
     "data": {
      "text/plain": [
       "True"
      ]
     },
     "execution_count": 6,
     "metadata": {},
     "output_type": "execute_result"
    }
   ],
   "source": [
    "check(123)"
   ]
  },
  {
   "cell_type": "code",
   "execution_count": 8,
   "metadata": {},
   "outputs": [
    {
     "data": {
      "text/plain": [
       "[0,\n",
       " 1,\n",
       " 2,\n",
       " 3,\n",
       " 4,\n",
       " 5,\n",
       " 6,\n",
       " 7,\n",
       " 8,\n",
       " 9,\n",
       " 22,\n",
       " 123,\n",
       " 132,\n",
       " 213,\n",
       " 231,\n",
       " 312,\n",
       " 321,\n",
       " 1124,\n",
       " 1142,\n",
       " 1214,\n",
       " 1241,\n",
       " 1412,\n",
       " 1421,\n",
       " 2114,\n",
       " 2141,\n",
       " 2411,\n",
       " 4112,\n",
       " 4121,\n",
       " 4211,\n",
       " 11125,\n",
       " 11133,\n",
       " 11152,\n",
       " 11215,\n",
       " 11222,\n",
       " 11251,\n",
       " 11313,\n",
       " 11331,\n",
       " 11512,\n",
       " 11521,\n",
       " 12115,\n",
       " 12122,\n",
       " 12151,\n",
       " 12212,\n",
       " 12221,\n",
       " 12511,\n",
       " 13113,\n",
       " 13131,\n",
       " 13311,\n",
       " 15112,\n",
       " 15121,\n",
       " 15211,\n",
       " 21115,\n",
       " 21122,\n",
       " 21151,\n",
       " 21212,\n",
       " 21221,\n",
       " 21511,\n",
       " 22112,\n",
       " 22121,\n",
       " 22211,\n",
       " 25111,\n",
       " 31113,\n",
       " 31131,\n",
       " 31311,\n",
       " 33111,\n",
       " 51112,\n",
       " 51121,\n",
       " 51211,\n",
       " 52111]"
      ]
     },
     "execution_count": 8,
     "metadata": {},
     "output_type": "execute_result"
    }
   ],
   "source": [
    "ans = []\n",
    "for i in range(10**5 + 1):\n",
    "    if check(i):\n",
    "        ans.append(i)\n",
    "ans"
   ]
  },
  {
   "cell_type": "code",
   "execution_count": 9,
   "metadata": {},
   "outputs": [
    {
     "name": "stdout",
     "output_type": "stream",
     "text": [
      "111126\n",
      "111162\n",
      "111216\n",
      "111261\n",
      "111612\n",
      "111621\n",
      "112116\n",
      "112161\n",
      "112611\n",
      "116112\n",
      "116121\n",
      "116211\n",
      "121116\n",
      "121161\n",
      "121611\n",
      "126111\n",
      "161112\n",
      "161121\n",
      "161211\n",
      "162111\n",
      "211116\n",
      "211161\n",
      "211611\n",
      "216111\n",
      "261111\n",
      "611112\n",
      "611121\n",
      "611211\n",
      "612111\n",
      "621111\n"
     ]
    }
   ],
   "source": [
    "for i in range(10**5, 10**6 + 1):\n",
    "    if check(i):\n",
    "        print(i)"
   ]
  },
  {
   "cell_type": "code",
   "execution_count": 10,
   "metadata": {},
   "outputs": [
    {
     "name": "stdout",
     "output_type": "stream",
     "text": [
      "1111127\n",
      "1111134\n",
      "1111143\n",
      "1111172\n",
      "1111217\n",
      "1111271\n",
      "1111314\n",
      "1111341\n",
      "1111413\n",
      "1111431\n",
      "1111712\n",
      "1111721\n",
      "1112117\n",
      "1112171\n",
      "1112711\n",
      "1113114\n",
      "1113141\n",
      "1113411\n",
      "1114113\n",
      "1114131\n",
      "1114311\n",
      "1117112\n",
      "1117121\n",
      "1117211\n",
      "1121117\n",
      "1121171\n",
      "1121711\n",
      "1127111\n",
      "1131114\n",
      "1131141\n",
      "1131411\n",
      "1134111\n",
      "1141113\n",
      "1141131\n",
      "1141311\n",
      "1143111\n",
      "1171112\n",
      "1171121\n",
      "1171211\n",
      "1172111\n",
      "1211117\n",
      "1211171\n",
      "1211711\n",
      "1217111\n",
      "1271111\n",
      "1311114\n",
      "1311141\n",
      "1311411\n",
      "1314111\n",
      "1341111\n",
      "1411113\n",
      "1411131\n",
      "1411311\n",
      "1413111\n",
      "1431111\n",
      "1711112\n",
      "1711121\n",
      "1711211\n",
      "1712111\n",
      "1721111\n",
      "2111117\n",
      "2111171\n",
      "2111711\n",
      "2117111\n",
      "2171111\n",
      "2711111\n",
      "3111114\n",
      "3111141\n",
      "3111411\n",
      "3114111\n",
      "3141111\n",
      "3411111\n",
      "4111113\n",
      "4111131\n",
      "4111311\n",
      "4113111\n",
      "4131111\n",
      "4311111\n",
      "7111112\n",
      "7111121\n",
      "7111211\n",
      "7112111\n",
      "7121111\n",
      "7211111\n"
     ]
    }
   ],
   "source": [
    "for i in range(10**6,10**7+1):\n",
    "    if check(i):\n",
    "        print(i)"
   ]
  },
  {
   "cell_type": "code",
   "execution_count": 11,
   "metadata": {},
   "outputs": [
    {
     "ename": "SyntaxError",
     "evalue": "invalid syntax (<ipython-input-11-265d9cf2b14a>, line 1)",
     "output_type": "error",
     "traceback": [
      "\u001b[0;36m  File \u001b[0;32m\"<ipython-input-11-265d9cf2b14a>\"\u001b[0;36m, line \u001b[0;32m1\u001b[0m\n\u001b[0;31m    for (i in range(10**6,10**7+1):\u001b[0m\n\u001b[0m                                  ^\u001b[0m\n\u001b[0;31mSyntaxError\u001b[0m\u001b[0;31m:\u001b[0m invalid syntax\n"
     ]
    }
   ],
   "source": [
    "for (i in range(10**6,10**7+1):\n",
    "     if (check(i):\n",
    "         ans+=1\n",
    "print(ans)"
   ]
  },
  {
   "cell_type": "code",
   "execution_count": 12,
   "metadata": {},
   "outputs": [
    {
     "ename": "TypeError",
     "evalue": "'int' object is not iterable",
     "output_type": "error",
     "traceback": [
      "\u001b[0;31m---------------------------------------------------------------------------\u001b[0m",
      "\u001b[0;31mTypeError\u001b[0m                                 Traceback (most recent call last)",
      "\u001b[0;32m<ipython-input-12-eccad6026e3e>\u001b[0m in \u001b[0;36m<module>\u001b[0;34m\u001b[0m\n\u001b[1;32m      1\u001b[0m \u001b[0;32mfor\u001b[0m \u001b[0mi\u001b[0m  \u001b[0;32min\u001b[0m \u001b[0mrange\u001b[0m\u001b[0;34m(\u001b[0m\u001b[0;36m10\u001b[0m\u001b[0;34m**\u001b[0m\u001b[0;36m6\u001b[0m\u001b[0;34m,\u001b[0m\u001b[0;36m10\u001b[0m\u001b[0;34m**\u001b[0m\u001b[0;36m7\u001b[0m\u001b[0;34m+\u001b[0m\u001b[0;36m1\u001b[0m\u001b[0;34m)\u001b[0m\u001b[0;34m:\u001b[0m\u001b[0;34m\u001b[0m\u001b[0;34m\u001b[0m\u001b[0m\n\u001b[1;32m      2\u001b[0m     \u001b[0;32mif\u001b[0m \u001b[0;34m(\u001b[0m\u001b[0mcheck\u001b[0m\u001b[0;34m(\u001b[0m\u001b[0mi\u001b[0m\u001b[0;34m)\u001b[0m\u001b[0;34m)\u001b[0m\u001b[0;34m:\u001b[0m\u001b[0;34m\u001b[0m\u001b[0;34m\u001b[0m\u001b[0m\n\u001b[0;32m----> 3\u001b[0;31m         \u001b[0mans\u001b[0m\u001b[0;34m+=\u001b[0m\u001b[0;36m1\u001b[0m\u001b[0;34m\u001b[0m\u001b[0;34m\u001b[0m\u001b[0m\n\u001b[0m\u001b[1;32m      4\u001b[0m \u001b[0mprint\u001b[0m\u001b[0;34m(\u001b[0m\u001b[0mans\u001b[0m\u001b[0;34m)\u001b[0m\u001b[0;34m\u001b[0m\u001b[0;34m\u001b[0m\u001b[0m\n",
      "\u001b[0;31mTypeError\u001b[0m: 'int' object is not iterable"
     ]
    }
   ],
   "source": [
    "for i  in range(10**6,10**7+1):\n",
    "    if (check(i)):\n",
    "        ans+=1\n",
    "print(ans)"
   ]
  },
  {
   "cell_type": "code",
   "execution_count": 15,
   "metadata": {},
   "outputs": [
    {
     "name": "stdout",
     "output_type": "stream",
     "text": [
      "30\n"
     ]
    }
   ],
   "source": [
    "ans=0\n",
    "for i  in range(10**5,10**6+1):\n",
    "    if (check(i)):\n",
    "        ans+=1\n",
    "print(ans)"
   ]
  },
  {
   "cell_type": "code",
   "execution_count": 16,
   "metadata": {},
   "outputs": [
    {
     "ename": "ModuleNotFoundError",
     "evalue": "No module named 'numba'",
     "output_type": "error",
     "traceback": [
      "\u001b[0;31m---------------------------------------------------------------------------\u001b[0m",
      "\u001b[0;31mModuleNotFoundError\u001b[0m                       Traceback (most recent call last)",
      "\u001b[0;32m<ipython-input-16-efec1361e99c>\u001b[0m in \u001b[0;36m<module>\u001b[0;34m\u001b[0m\n\u001b[0;32m----> 1\u001b[0;31m \u001b[0;32mfrom\u001b[0m \u001b[0mnumba\u001b[0m \u001b[0;32mimport\u001b[0m \u001b[0;34m*\u001b[0m\u001b[0;34m\u001b[0m\u001b[0;34m\u001b[0m\u001b[0m\n\u001b[0m",
      "\u001b[0;31mModuleNotFoundError\u001b[0m: No module named 'numba'"
     ]
    }
   ],
   "source": [
    "from numba import *"
   ]
  },
  {
   "cell_type": "code",
   "execution_count": 17,
   "metadata": {},
   "outputs": [],
   "source": [
    "from numba import *"
   ]
  },
  {
   "cell_type": "code",
   "execution_count": 19,
   "metadata": {},
   "outputs": [],
   "source": [
    "@jit\n",
    "def cnt(n):\n",
    "    ans = 0\n",
    "    for i in range(10**n, 10**(n + 1) + 1):\n",
    "        if check(i):\n",
    "            ans += 1\n",
    "    return ans"
   ]
  },
  {
   "cell_type": "code",
   "execution_count": 20,
   "metadata": {},
   "outputs": [
    {
     "name": "stderr",
     "output_type": "stream",
     "text": [
      "<ipython-input-19-0fad7a10424b>:1: NumbaWarning: \u001b[1m\n",
      "Compilation is falling back to object mode WITH looplifting enabled because Function \"cnt\" failed type inference due to: \u001b[1mUntyped global name 'check':\u001b[0m \u001b[1m\u001b[1mcannot determine Numba type of <class 'function'>\u001b[0m\n",
      "\u001b[1m\n",
      "File \"<ipython-input-19-0fad7a10424b>\", line 5:\u001b[0m\n",
      "\u001b[1mdef cnt(n):\n",
      "    <source elided>\n",
      "    for i in range(10**n, 10**(n + 1) + 1):\n",
      "\u001b[1m        if check(i):\n",
      "\u001b[0m        \u001b[1m^\u001b[0m\u001b[0m\n",
      "\u001b[0m\u001b[0m\n",
      "  @jit\n",
      "<ipython-input-19-0fad7a10424b>:1: NumbaWarning: \u001b[1m\n",
      "Compilation is falling back to object mode WITHOUT looplifting enabled because Function \"cnt\" failed type inference due to: \u001b[1m\u001b[1mcannot determine Numba type of <class 'numba.dispatcher.LiftedLoop'>\u001b[0m\n",
      "\u001b[1m\n",
      "File \"<ipython-input-19-0fad7a10424b>\", line 4:\u001b[0m\n",
      "\u001b[1mdef cnt(n):\n",
      "    <source elided>\n",
      "    ans = 0\n",
      "\u001b[1m    for i in range(10**n, 10**(n + 1) + 1):\n",
      "\u001b[0m    \u001b[1m^\u001b[0m\u001b[0m\n",
      "\u001b[0m\u001b[0m\n",
      "  @jit\n",
      "/usr/lib/python3.7/site-packages/numba/compiler.py:742: NumbaWarning: \u001b[1mFunction \"cnt\" was compiled in object mode without forceobj=True, but has lifted loops.\n",
      "\u001b[1m\n",
      "File \"<ipython-input-19-0fad7a10424b>\", line 2:\u001b[0m\n",
      "\u001b[1m@jit\n",
      "\u001b[1mdef cnt(n):\n",
      "\u001b[0m\u001b[1m^\u001b[0m\u001b[0m\n",
      "\u001b[0m\n",
      "  self.func_ir.loc))\n",
      "/usr/lib/python3.7/site-packages/numba/compiler.py:751: NumbaDeprecationWarning: \u001b[1m\n",
      "Fall-back from the nopython compilation path to the object mode compilation path has been detected, this is deprecated behaviour.\n",
      "\n",
      "For more information visit http://numba.pydata.org/numba-doc/latest/reference/deprecation.html#deprecation-of-object-mode-fall-back-behaviour-when-using-jit\n",
      "\u001b[1m\n",
      "File \"<ipython-input-19-0fad7a10424b>\", line 2:\u001b[0m\n",
      "\u001b[1m@jit\n",
      "\u001b[1mdef cnt(n):\n",
      "\u001b[0m\u001b[1m^\u001b[0m\u001b[0m\n",
      "\u001b[0m\n",
      "  warnings.warn(errors.NumbaDeprecationWarning(msg, self.func_ir.loc))\n",
      "<ipython-input-19-0fad7a10424b>:1: NumbaWarning: \u001b[1m\n",
      "Compilation is falling back to object mode WITHOUT looplifting enabled because Function \"cnt\" failed type inference due to: \u001b[1mUntyped global name 'check':\u001b[0m \u001b[1m\u001b[1mcannot determine Numba type of <class 'function'>\u001b[0m\n",
      "\u001b[1m\n",
      "File \"<ipython-input-19-0fad7a10424b>\", line 5:\u001b[0m\n",
      "\u001b[1mdef cnt(n):\n",
      "    <source elided>\n",
      "    for i in range(10**n, 10**(n + 1) + 1):\n",
      "\u001b[1m        if check(i):\n",
      "\u001b[0m        \u001b[1m^\u001b[0m\u001b[0m\n",
      "\u001b[0m\u001b[0m\n",
      "  @jit\n",
      "/usr/lib/python3.7/site-packages/numba/compiler.py:742: NumbaWarning: \u001b[1mFunction \"cnt\" was compiled in object mode without forceobj=True.\n",
      "\u001b[1m\n",
      "File \"<ipython-input-19-0fad7a10424b>\", line 4:\u001b[0m\n",
      "\u001b[1mdef cnt(n):\n",
      "    <source elided>\n",
      "    ans = 0\n",
      "\u001b[1m    for i in range(10**n, 10**(n + 1) + 1):\n",
      "\u001b[0m    \u001b[1m^\u001b[0m\u001b[0m\n",
      "\u001b[0m\n",
      "  self.func_ir.loc))\n",
      "/usr/lib/python3.7/site-packages/numba/compiler.py:751: NumbaDeprecationWarning: \u001b[1m\n",
      "Fall-back from the nopython compilation path to the object mode compilation path has been detected, this is deprecated behaviour.\n",
      "\n",
      "For more information visit http://numba.pydata.org/numba-doc/latest/reference/deprecation.html#deprecation-of-object-mode-fall-back-behaviour-when-using-jit\n",
      "\u001b[1m\n",
      "File \"<ipython-input-19-0fad7a10424b>\", line 4:\u001b[0m\n",
      "\u001b[1mdef cnt(n):\n",
      "    <source elided>\n",
      "    ans = 0\n",
      "\u001b[1m    for i in range(10**n, 10**(n + 1) + 1):\n",
      "\u001b[0m    \u001b[1m^\u001b[0m\u001b[0m\n",
      "\u001b[0m\n",
      "  warnings.warn(errors.NumbaDeprecationWarning(msg, self.func_ir.loc))\n"
     ]
    },
    {
     "data": {
      "text/plain": [
       "30"
      ]
     },
     "execution_count": 20,
     "metadata": {},
     "output_type": "execute_result"
    }
   ],
   "source": [
    "cnt(6)"
   ]
  },
  {
   "cell_type": "code",
   "execution_count": null,
   "metadata": {},
   "outputs": [],
   "source": []
  },
  {
   "cell_type": "code",
   "execution_count": null,
   "metadata": {},
   "outputs": [],
   "source": []
  },
  {
   "cell_type": "code",
   "execution_count": null,
   "metadata": {},
   "outputs": [],
   "source": []
  },
  {
   "cell_type": "code",
   "execution_count": null,
   "metadata": {},
   "outputs": [],
   "source": []
  }
 ],
 "metadata": {
  "kernelspec": {
   "display_name": "Python 3",
   "language": "python",
   "name": "python3"
  },
  "language_info": {
   "codemirror_mode": {
    "name": "ipython",
    "version": 3
   },
   "file_extension": ".py",
   "mimetype": "text/x-python",
   "name": "python",
   "nbconvert_exporter": "python",
   "pygments_lexer": "ipython3",
   "version": "3.7.4"
  }
 },
 "nbformat": 4,
 "nbformat_minor": 2
}
